{
 "cells": [
  {
   "cell_type": "markdown",
   "metadata": {},
   "source": [
    "# Notebook to build database on countries from a free API\n",
    "This Notebook shows how to use a free API (no authorization or API key needed) to download some basic information about various countries around the world and put them in a DataFrame."
   ]
  },
  {
   "cell_type": "markdown",
   "metadata": {},
   "source": [
    "### Import libraries"
   ]
  },
  {
   "cell_type": "code",
   "execution_count": 77,
   "metadata": {},
   "outputs": [],
   "source": [
    "import urllib.request, urllib.parse\n",
    "from urllib.error import HTTPError,URLError\n",
    "from urllib.parse import quote  \n",
    "import pandas as pd\n",
    "import json"
   ]
  },
  {
   "cell_type": "markdown",
   "metadata": {},
   "source": [
    "### Define the base URL"
   ]
  },
  {
   "cell_type": "code",
   "execution_count": 78,
   "metadata": {},
   "outputs": [],
   "source": [
    "serviceurl = 'https://restcountries.eu/rest/v2/name/'"
   ]
  },
  {
   "cell_type": "markdown",
   "metadata": {},
   "source": [
    "### Define function to pull the country data from the API"
   ]
  },
  {
   "cell_type": "code",
   "execution_count": 79,
   "metadata": {},
   "outputs": [],
   "source": [
    "def get_country_data(country):\n",
    "   # country_name=country       #needs to be more sensitive to specia chars and blanks\n",
    "    country_name=country ##.replace(\" \", \"%20\")\n",
    "   #country_name=urllib.parse.unquote(country, encoding='utf-8', errors='replace')\n",
    "    url = serviceurl + quote(country_name)\n",
    "    try: \n",
    "        uh = urllib.request.urlopen(url)\n",
    "    except HTTPError as e:\n",
    "        print(\"Sorry! Could not retrive anything\")\n",
    "        return None\n",
    "    except URLError as e:\n",
    "        print('Failed to reach a server.')\n",
    "        print('Reason: ', e.reason)\n",
    "        return None\n",
    "    else:\n",
    "        data = uh.read().decode()\n",
    "        data=data.replace('[]',\"[0,0]\")\n",
    "        print(\"Retrieved data on {}. Total {} characters read.\".format(country_name,len(data)))\n",
    "        return data"
   ]
  },
  {
   "cell_type": "markdown",
   "metadata": {},
   "source": [
    "### Define function to pull the links (for debuging only)"
   ]
  },
  {
   "cell_type": "code",
   "execution_count": 80,
   "metadata": {},
   "outputs": [],
   "source": [
    "def get_country_data_links(country):\n",
    "   # country_name=country       #needs to be more sensitive to specia chars and blanks\n",
    "    country_name=country ##.replace(\" \", \"%20\")\n",
    "   #country_name=urllib.parse.unquote(country, encoding='utf-8', errors='replace')\n",
    "    url = (serviceurl + quote(country_name))\n",
    "    print(url)"
   ]
  },
  {
   "cell_type": "markdown",
   "metadata": {},
   "source": [
    "### Define a function which can take a list of countries and return a DataFrame containing key info\n",
    "* Capital\n",
    "* Region\n",
    "* Sub-region\n",
    "* Population\n",
    "* lattitude/longitude\n",
    "* Area\n",
    "* Gini index\n",
    "* Timezones\n",
    "* Currencies\n",
    "* Languages"
   ]
  },
  {
   "cell_type": "code",
   "execution_count": 81,
   "metadata": {},
   "outputs": [],
   "source": [
    "def build_country_database(list_country):\n",
    "    \"\"\"\n",
    "    \"\"\"\n",
    "    # Define an empty dictionary with keys\n",
    "    country_dict={'Country':[],'Capital':[],'Region':[],'Sub-region':[],'Population':[],\n",
    "                  'Lattitude':[],'Longitude':[],'Area':[],'Gini':[],'Timezones':[],\n",
    "                  'Currencies':[],'Languages':[]}\n",
    "    \n",
    "    for c in list_country:\n",
    "        data = get_country_data(c)\n",
    "        if data!=None:\n",
    "            x = json.loads(data)\n",
    "            y=x[0]\n",
    "            country_dict['Country'].append(y['name'])\n",
    "            country_dict['Capital'].append(y['capital'])\n",
    "            country_dict['Region'].append(y['region'])\n",
    "            country_dict['Sub-region'].append(y['subregion'])\n",
    "            country_dict['Population'].append(y['population'])\n",
    "            country_dict['Lattitude'].append(y['latlng'][0])\n",
    "            country_dict['Longitude'].append(y['latlng'][1])\n",
    "            country_dict['Area'].append(y['area'])\n",
    "            country_dict['Gini'].append(y['gini'])\n",
    "            # Note the code to handle possibility of multiple timezones as a list\n",
    "            if len(y['timezones'])>1:\n",
    "                country_dict['Timezones'].append(','.join(y['timezones']))\n",
    "            else:\n",
    "                country_dict['Timezones'].append(y['timezones'][0])\n",
    "            # Note the code to handle possibility of multiple currencies as dictionaries\n",
    "            if len(y['currencies'])>1:\n",
    "                lst_currencies = []\n",
    "                for i in y['currencies']:\n",
    "                    if i['name'] != None :\n",
    "                        lst_currencies.append(i['name'])\n",
    "                country_dict['Currencies'].append(','.join(lst_currencies))\n",
    "            else:\n",
    "                country_dict['Currencies'].append(y['currencies'][0]['name'])\n",
    "            # Note the code to handle possibility of multiple languages as dictionaries\n",
    "            if len(y['languages'])>1:\n",
    "                lst_languages = []\n",
    "                for i in y['languages']:\n",
    "                    lst_languages.append(i['name'])\n",
    "                country_dict['Languages'].append(','.join(lst_languages))\n",
    "            else:\n",
    "                country_dict['Languages'].append(y['languages'][0]['name'])\n",
    "    \n",
    "    # Return as a Pandas DataFrame\n",
    "    return pd.DataFrame(country_dict)"
   ]
  },
  {
   "cell_type": "markdown",
   "metadata": {},
   "source": [
    "### Define function to pull the country NAMES data from the API"
   ]
  },
  {
   "cell_type": "code",
   "execution_count": 84,
   "metadata": {},
   "outputs": [],
   "source": [
    "def list_of_countries(number_to_return=250):\n",
    "\n",
    "    #select default to all len(z)\n",
    "    #select only the first x amount \n",
    "    \n",
    "    allurl='https://restcountries.eu/rest/v2/all'\n",
    "\n",
    "    uh=urllib.request.urlopen(allurl)\n",
    "    data = uh.read().decode()\n",
    "    z=json.loads(data)\n",
    "    \n",
    " ##   default_max=250 #len(z)\n",
    "    lim=number_to_return \n",
    "  #  if  number_to_return !=0: \n",
    "   #     lim=number_to_return \n",
    "  #else :\n",
    "   #     lim=250\n",
    "    \n",
    "    country_list=list()\n",
    "    \n",
    "    i=0\n",
    "    while i < lim :\n",
    "        y=z[i]\n",
    "        country_list.append(y['name'])\n",
    "        i+=1 \n",
    "        \n",
    "    return  country_list\n"
   ]
  },
  {
   "cell_type": "code",
   "execution_count": 87,
   "metadata": {},
   "outputs": [],
   "source": [
    "def list_of_countries(number_to_return=300):\n",
    "\n",
    "    allurl='https://restcountries.eu/rest/v2/all'\n",
    "\n",
    "    uh=urllib.request.urlopen(allurl)\n",
    "    data = uh.read().decode()\n",
    "    z=json.loads(data)\n",
    "    \n",
    "    lim=number_to_return \n",
    "    country_list=list()\n",
    "    \n",
    "    i=0\n",
    "    while i < lim :\n",
    "        y=z[i]\n",
    "        country_list.append(y['name'])\n",
    "        i+=1 \n",
    "        \n",
    "    return  country_list"
   ]
  },
  {
   "cell_type": "code",
   "execution_count": 88,
   "metadata": {},
   "outputs": [
    {
     "data": {
      "text/plain": [
       "['Afghanistan']"
      ]
     },
     "execution_count": 88,
     "metadata": {},
     "output_type": "execute_result"
    }
   ],
   "source": [
    "list_of_countries(1)   ##default   #built in return "
   ]
  },
  {
   "cell_type": "code",
   "execution_count": 73,
   "metadata": {},
   "outputs": [
    {
     "ename": "NameError",
     "evalue": "name 'country_list' is not defined",
     "output_type": "error",
     "traceback": [
      "\u001b[1;31m---------------------------------------------------------------------------\u001b[0m",
      "\u001b[1;31mNameError\u001b[0m                                 Traceback (most recent call last)",
      "\u001b[1;32m<ipython-input-73-ae4397b9b18c>\u001b[0m in \u001b[0;36m<module>\u001b[1;34m\u001b[0m\n\u001b[1;32m----> 1\u001b[1;33m \u001b[0mcountry_list\u001b[0m    \u001b[1;31m#needs to create this item\u001b[0m\u001b[1;33m\u001b[0m\u001b[1;33m\u001b[0m\u001b[0m\n\u001b[0m",
      "\u001b[1;31mNameError\u001b[0m: name 'country_list' is not defined"
     ]
    }
   ],
   "source": [
    "country_list    #needs to create this item "
   ]
  },
  {
   "cell_type": "markdown",
   "metadata": {},
   "source": [
    "### Generate data into DF by listing or run all the countries "
   ]
  },
  {
   "cell_type": "code",
   "execution_count": null,
   "metadata": {},
   "outputs": [],
   "source": [
    "df1=build_country_database(['Nigeria','Switzerland','France','Russia','Kenya','Singapore','South Africa','Åland Islands','United States Minor Outlying Islands','Nauru'])"
   ]
  },
  {
   "cell_type": "code",
   "execution_count": 83,
   "metadata": {},
   "outputs": [
    {
     "name": "stdout",
     "output_type": "stream",
     "text": [
      "Retrieved data on Afghanistan. Total 1109 characters read.\n",
      "Retrieved data on Åland Islands. Total 908 characters read.\n",
      "Retrieved data on Albania. Total 930 characters read.\n",
      "Retrieved data on Algeria. Total 1149 characters read.\n"
     ]
    }
   ],
   "source": [
    "df2=build_country_database(list_of_countries(4))"
   ]
  },
  {
   "cell_type": "code",
   "execution_count": null,
   "metadata": {},
   "outputs": [],
   "source": [
    "##Problem 1 was special characters and spaces eg Åland Islands'"
   ]
  },
  {
   "cell_type": "code",
   "execution_count": null,
   "metadata": {},
   "outputs": [],
   "source": [
    "##Problem 2 was blank data reading in and the index not being found eg 'United States Minor Outlying Islands'"
   ]
  },
  {
   "cell_type": "code",
   "execution_count": null,
   "metadata": {},
   "outputs": [],
   "source": [
    "#Problem 3 was NUll type in currency list eg 'Nauru'"
   ]
  },
  {
   "cell_type": "markdown",
   "metadata": {},
   "source": [
    "##Note on Dictionaries Structure for JSON OBJECT \n",
    "type(y)\n",
    "y.keys()\n",
    "\n",
    "for k,v in y.items():\n",
    "    print(f\"{k}: {v}\")\n",
    "    \n",
    "for i in y['languages']:\n",
    "    print(i['name'])  \n",
    "    \n",
    "y['currencies']    \n",
    "    "
   ]
  }
 ],
 "metadata": {
  "kernelspec": {
   "display_name": "Python 3",
   "language": "python",
   "name": "python3"
  },
  "language_info": {
   "codemirror_mode": {
    "name": "ipython",
    "version": 3
   },
   "file_extension": ".py",
   "mimetype": "text/x-python",
   "name": "python",
   "nbconvert_exporter": "python",
   "pygments_lexer": "ipython3",
   "version": "3.7.4"
  },
  "latex_envs": {
   "LaTeX_envs_menu_present": true,
   "autoclose": false,
   "autocomplete": true,
   "bibliofile": "biblio.bib",
   "cite_by": "apalike",
   "current_citInitial": 1,
   "eqLabelWithNumbers": true,
   "eqNumInitial": 1,
   "hotkeys": {
    "equation": "Ctrl-E",
    "itemize": "Ctrl-I"
   },
   "labels_anchors": false,
   "latex_user_defs": false,
   "report_style_numbering": false,
   "user_envs_cfg": false
  }
 },
 "nbformat": 4,
 "nbformat_minor": 2
}
